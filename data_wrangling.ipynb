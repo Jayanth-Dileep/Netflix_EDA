{
 "cells": [
  {
   "cell_type": "markdown",
   "id": "9b5c0d11",
   "metadata": {},
   "source": [
    "#### Importing Packages"
   ]
  },
  {
   "cell_type": "code",
   "execution_count": 1,
   "id": "0d2e2c2a",
   "metadata": {},
   "outputs": [],
   "source": [
    "import pandas as pd\n",
    "import numpy as np\n",
    "import ast\n",
    "import random"
   ]
  },
  {
   "cell_type": "markdown",
   "id": "f5d79661",
   "metadata": {},
   "source": [
    "#### Reading Datasets"
   ]
  },
  {
   "cell_type": "code",
   "execution_count": 2,
   "id": "0fe12cea",
   "metadata": {},
   "outputs": [],
   "source": [
    "credits = pd.read_csv('credits.csv')\n",
    "titles = pd.read_csv('titles.csv')"
   ]
  },
  {
   "cell_type": "markdown",
   "id": "1e7c5d81",
   "metadata": {},
   "source": [
    "#### Data Understanding & Wrangling"
   ]
  },
  {
   "cell_type": "code",
   "execution_count": 3,
   "id": "53d21c2a",
   "metadata": {},
   "outputs": [
    {
     "data": {
      "text/html": [
       "<div>\n",
       "<style scoped>\n",
       "    .dataframe tbody tr th:only-of-type {\n",
       "        vertical-align: middle;\n",
       "    }\n",
       "\n",
       "    .dataframe tbody tr th {\n",
       "        vertical-align: top;\n",
       "    }\n",
       "\n",
       "    .dataframe thead th {\n",
       "        text-align: right;\n",
       "    }\n",
       "</style>\n",
       "<table border=\"1\" class=\"dataframe\">\n",
       "  <thead>\n",
       "    <tr style=\"text-align: right;\">\n",
       "      <th></th>\n",
       "      <th>person_id</th>\n",
       "      <th>id</th>\n",
       "      <th>name</th>\n",
       "      <th>character</th>\n",
       "      <th>role</th>\n",
       "    </tr>\n",
       "  </thead>\n",
       "  <tbody>\n",
       "    <tr>\n",
       "      <th>0</th>\n",
       "      <td>3748</td>\n",
       "      <td>tm84618</td>\n",
       "      <td>Robert De Niro</td>\n",
       "      <td>Travis Bickle</td>\n",
       "      <td>ACTOR</td>\n",
       "    </tr>\n",
       "    <tr>\n",
       "      <th>1</th>\n",
       "      <td>14658</td>\n",
       "      <td>tm84618</td>\n",
       "      <td>Jodie Foster</td>\n",
       "      <td>Iris Steensma</td>\n",
       "      <td>ACTOR</td>\n",
       "    </tr>\n",
       "    <tr>\n",
       "      <th>2</th>\n",
       "      <td>7064</td>\n",
       "      <td>tm84618</td>\n",
       "      <td>Albert Brooks</td>\n",
       "      <td>Tom</td>\n",
       "      <td>ACTOR</td>\n",
       "    </tr>\n",
       "    <tr>\n",
       "      <th>3</th>\n",
       "      <td>3739</td>\n",
       "      <td>tm84618</td>\n",
       "      <td>Harvey Keitel</td>\n",
       "      <td>Matthew 'Sport' Higgins</td>\n",
       "      <td>ACTOR</td>\n",
       "    </tr>\n",
       "    <tr>\n",
       "      <th>4</th>\n",
       "      <td>48933</td>\n",
       "      <td>tm84618</td>\n",
       "      <td>Cybill Shepherd</td>\n",
       "      <td>Betsy</td>\n",
       "      <td>ACTOR</td>\n",
       "    </tr>\n",
       "  </tbody>\n",
       "</table>\n",
       "</div>"
      ],
      "text/plain": [
       "   person_id       id             name                character   role\n",
       "0       3748  tm84618   Robert De Niro            Travis Bickle  ACTOR\n",
       "1      14658  tm84618     Jodie Foster            Iris Steensma  ACTOR\n",
       "2       7064  tm84618    Albert Brooks                      Tom  ACTOR\n",
       "3       3739  tm84618    Harvey Keitel  Matthew 'Sport' Higgins  ACTOR\n",
       "4      48933  tm84618  Cybill Shepherd                    Betsy  ACTOR"
      ]
     },
     "execution_count": 3,
     "metadata": {},
     "output_type": "execute_result"
    }
   ],
   "source": [
    "credits.head()"
   ]
  },
  {
   "cell_type": "code",
   "execution_count": 4,
   "id": "6db52ac8",
   "metadata": {},
   "outputs": [
    {
     "data": {
      "text/html": [
       "<div>\n",
       "<style scoped>\n",
       "    .dataframe tbody tr th:only-of-type {\n",
       "        vertical-align: middle;\n",
       "    }\n",
       "\n",
       "    .dataframe tbody tr th {\n",
       "        vertical-align: top;\n",
       "    }\n",
       "\n",
       "    .dataframe thead th {\n",
       "        text-align: right;\n",
       "    }\n",
       "</style>\n",
       "<table border=\"1\" class=\"dataframe\">\n",
       "  <thead>\n",
       "    <tr style=\"text-align: right;\">\n",
       "      <th></th>\n",
       "      <th>id</th>\n",
       "      <th>title</th>\n",
       "      <th>type</th>\n",
       "      <th>description</th>\n",
       "      <th>release_year</th>\n",
       "      <th>age_certification</th>\n",
       "      <th>runtime</th>\n",
       "      <th>genres</th>\n",
       "      <th>production_countries</th>\n",
       "      <th>seasons</th>\n",
       "      <th>imdb_id</th>\n",
       "      <th>imdb_score</th>\n",
       "      <th>imdb_votes</th>\n",
       "      <th>tmdb_popularity</th>\n",
       "      <th>tmdb_score</th>\n",
       "    </tr>\n",
       "  </thead>\n",
       "  <tbody>\n",
       "    <tr>\n",
       "      <th>0</th>\n",
       "      <td>ts300399</td>\n",
       "      <td>Five Came Back: The Reference Films</td>\n",
       "      <td>SHOW</td>\n",
       "      <td>This collection includes 12 World War II-era p...</td>\n",
       "      <td>1945</td>\n",
       "      <td>TV-MA</td>\n",
       "      <td>51</td>\n",
       "      <td>['documentation']</td>\n",
       "      <td>['US']</td>\n",
       "      <td>1.0</td>\n",
       "      <td>NaN</td>\n",
       "      <td>NaN</td>\n",
       "      <td>NaN</td>\n",
       "      <td>0.600</td>\n",
       "      <td>NaN</td>\n",
       "    </tr>\n",
       "    <tr>\n",
       "      <th>1</th>\n",
       "      <td>tm84618</td>\n",
       "      <td>Taxi Driver</td>\n",
       "      <td>MOVIE</td>\n",
       "      <td>A mentally unstable Vietnam War veteran works ...</td>\n",
       "      <td>1976</td>\n",
       "      <td>R</td>\n",
       "      <td>114</td>\n",
       "      <td>['drama', 'crime']</td>\n",
       "      <td>['US']</td>\n",
       "      <td>NaN</td>\n",
       "      <td>tt0075314</td>\n",
       "      <td>8.2</td>\n",
       "      <td>808582.0</td>\n",
       "      <td>40.965</td>\n",
       "      <td>8.179</td>\n",
       "    </tr>\n",
       "    <tr>\n",
       "      <th>2</th>\n",
       "      <td>tm154986</td>\n",
       "      <td>Deliverance</td>\n",
       "      <td>MOVIE</td>\n",
       "      <td>Intent on seeing the Cahulawassee River before...</td>\n",
       "      <td>1972</td>\n",
       "      <td>R</td>\n",
       "      <td>109</td>\n",
       "      <td>['drama', 'action', 'thriller', 'european']</td>\n",
       "      <td>['US']</td>\n",
       "      <td>NaN</td>\n",
       "      <td>tt0068473</td>\n",
       "      <td>7.7</td>\n",
       "      <td>107673.0</td>\n",
       "      <td>10.010</td>\n",
       "      <td>7.300</td>\n",
       "    </tr>\n",
       "    <tr>\n",
       "      <th>3</th>\n",
       "      <td>tm127384</td>\n",
       "      <td>Monty Python and the Holy Grail</td>\n",
       "      <td>MOVIE</td>\n",
       "      <td>King Arthur, accompanied by his squire, recrui...</td>\n",
       "      <td>1975</td>\n",
       "      <td>PG</td>\n",
       "      <td>91</td>\n",
       "      <td>['fantasy', 'action', 'comedy']</td>\n",
       "      <td>['GB']</td>\n",
       "      <td>NaN</td>\n",
       "      <td>tt0071853</td>\n",
       "      <td>8.2</td>\n",
       "      <td>534486.0</td>\n",
       "      <td>15.461</td>\n",
       "      <td>7.811</td>\n",
       "    </tr>\n",
       "    <tr>\n",
       "      <th>4</th>\n",
       "      <td>tm120801</td>\n",
       "      <td>The Dirty Dozen</td>\n",
       "      <td>MOVIE</td>\n",
       "      <td>12 American military prisoners in World War II...</td>\n",
       "      <td>1967</td>\n",
       "      <td>NaN</td>\n",
       "      <td>150</td>\n",
       "      <td>['war', 'action']</td>\n",
       "      <td>['GB', 'US']</td>\n",
       "      <td>NaN</td>\n",
       "      <td>tt0061578</td>\n",
       "      <td>7.7</td>\n",
       "      <td>72662.0</td>\n",
       "      <td>20.398</td>\n",
       "      <td>7.600</td>\n",
       "    </tr>\n",
       "  </tbody>\n",
       "</table>\n",
       "</div>"
      ],
      "text/plain": [
       "         id                                title   type  \\\n",
       "0  ts300399  Five Came Back: The Reference Films   SHOW   \n",
       "1   tm84618                          Taxi Driver  MOVIE   \n",
       "2  tm154986                          Deliverance  MOVIE   \n",
       "3  tm127384      Monty Python and the Holy Grail  MOVIE   \n",
       "4  tm120801                      The Dirty Dozen  MOVIE   \n",
       "\n",
       "                                         description  release_year  \\\n",
       "0  This collection includes 12 World War II-era p...          1945   \n",
       "1  A mentally unstable Vietnam War veteran works ...          1976   \n",
       "2  Intent on seeing the Cahulawassee River before...          1972   \n",
       "3  King Arthur, accompanied by his squire, recrui...          1975   \n",
       "4  12 American military prisoners in World War II...          1967   \n",
       "\n",
       "  age_certification  runtime                                       genres  \\\n",
       "0             TV-MA       51                            ['documentation']   \n",
       "1                 R      114                           ['drama', 'crime']   \n",
       "2                 R      109  ['drama', 'action', 'thriller', 'european']   \n",
       "3                PG       91              ['fantasy', 'action', 'comedy']   \n",
       "4               NaN      150                            ['war', 'action']   \n",
       "\n",
       "  production_countries  seasons    imdb_id  imdb_score  imdb_votes  \\\n",
       "0               ['US']      1.0        NaN         NaN         NaN   \n",
       "1               ['US']      NaN  tt0075314         8.2    808582.0   \n",
       "2               ['US']      NaN  tt0068473         7.7    107673.0   \n",
       "3               ['GB']      NaN  tt0071853         8.2    534486.0   \n",
       "4         ['GB', 'US']      NaN  tt0061578         7.7     72662.0   \n",
       "\n",
       "   tmdb_popularity  tmdb_score  \n",
       "0            0.600         NaN  \n",
       "1           40.965       8.179  \n",
       "2           10.010       7.300  \n",
       "3           15.461       7.811  \n",
       "4           20.398       7.600  "
      ]
     },
     "execution_count": 4,
     "metadata": {},
     "output_type": "execute_result"
    }
   ],
   "source": [
    "titles.head()"
   ]
  },
  {
   "cell_type": "code",
   "execution_count": 5,
   "id": "648f6f06",
   "metadata": {},
   "outputs": [
    {
     "data": {
      "text/plain": [
       "person_id       0\n",
       "id              0\n",
       "name            0\n",
       "character    9772\n",
       "role            0\n",
       "dtype: int64"
      ]
     },
     "execution_count": 5,
     "metadata": {},
     "output_type": "execute_result"
    }
   ],
   "source": [
    "credits.isnull().sum()"
   ]
  },
  {
   "cell_type": "markdown",
   "id": "29351d97",
   "metadata": {},
   "source": [
    "###### Treating Null Values in Credits Dataframe, We fill Character's missing values with Not Available. "
   ]
  },
  {
   "cell_type": "code",
   "execution_count": 6,
   "id": "af70761c",
   "metadata": {},
   "outputs": [],
   "source": [
    "credits.character.fillna(\"Not Available\", inplace=True)"
   ]
  },
  {
   "cell_type": "code",
   "execution_count": 7,
   "id": "3fb8fda7",
   "metadata": {},
   "outputs": [
    {
     "data": {
      "text/plain": [
       "person_id    0\n",
       "id           0\n",
       "name         0\n",
       "character    0\n",
       "role         0\n",
       "dtype: int64"
      ]
     },
     "execution_count": 7,
     "metadata": {},
     "output_type": "execute_result"
    }
   ],
   "source": [
    "credits.isnull().sum()"
   ]
  },
  {
   "cell_type": "code",
   "execution_count": 8,
   "id": "ed22b989",
   "metadata": {},
   "outputs": [
    {
     "name": "stdout",
     "output_type": "stream",
     "text": [
      "(5850, 15)\n",
      "(77801, 5)\n"
     ]
    }
   ],
   "source": [
    "print(titles.shape)\n",
    "print(credits.shape)"
   ]
  },
  {
   "cell_type": "code",
   "execution_count": 9,
   "id": "b30c7870",
   "metadata": {},
   "outputs": [
    {
     "data": {
      "text/plain": [
       "id                         0\n",
       "title                      1\n",
       "type                       0\n",
       "description               18\n",
       "release_year               0\n",
       "age_certification       2619\n",
       "runtime                    0\n",
       "genres                     0\n",
       "production_countries       0\n",
       "seasons                 3744\n",
       "imdb_id                  403\n",
       "imdb_score               482\n",
       "imdb_votes               498\n",
       "tmdb_popularity           91\n",
       "tmdb_score               311\n",
       "dtype: int64"
      ]
     },
     "execution_count": 9,
     "metadata": {},
     "output_type": "execute_result"
    }
   ],
   "source": [
    "titles.isnull().sum()"
   ]
  },
  {
   "cell_type": "code",
   "execution_count": 10,
   "id": "c1028d51",
   "metadata": {},
   "outputs": [
    {
     "data": {
      "text/plain": [
       "array(['SHOW', 'MOVIE'], dtype=object)"
      ]
     },
     "execution_count": 10,
     "metadata": {},
     "output_type": "execute_result"
    }
   ],
   "source": [
    "titles['type'].unique()"
   ]
  },
  {
   "cell_type": "markdown",
   "id": "3d177320",
   "metadata": {},
   "source": [
    "##### -> Titles contain shows and movies as their type, hence shows have seasons and movies cannot have seasons. \n",
    "##### -> But age certification, production_country is common for all types of movies and shows.\n",
    "##### -> We fill null values in age certification and production_country with Not available.\n",
    "##### -> Description is not needed for our Analysis, Hence we remove description from out dataframe"
   ]
  },
  {
   "cell_type": "code",
   "execution_count": 11,
   "id": "21c7e1ea",
   "metadata": {},
   "outputs": [],
   "source": [
    "titles.age_certification.fillna('Not Available', inplace = True)\n",
    "titles.drop(columns=['description'], inplace = True)\n",
    "titles.production_countries.fillna(\"Not Available\", inplace=True)\n",
    "titles.genres.fillna(\"Not Available\", inplace = True)"
   ]
  },
  {
   "cell_type": "markdown",
   "id": "96f4250c",
   "metadata": {},
   "source": [
    "##### Genere and prduction_countries have multiple values in the form of array. Hence we derive into single values for Genere and production_countires. "
   ]
  },
  {
   "cell_type": "code",
   "execution_count": 12,
   "id": "94d4c3ae",
   "metadata": {},
   "outputs": [],
   "source": [
    "def cleaning_multivalued(data):\n",
    "    data=ast.literal_eval(data)\n",
    "    \n",
    "    if len(data)==0:\n",
    "        return np.nan\n",
    "    \n",
    "    elif len(data)==1:\n",
    "        return data[0]\n",
    "    \n",
    "    else:\n",
    "        return random.choice(data)\n",
    "\n",
    "titles[\"production_countries\"]=titles[\"production_countries\"].apply(cleaning_multivalued)\n",
    "titles[\"genres\"]=titles[\"genres\"].apply(cleaning_multivalued)"
   ]
  },
  {
   "cell_type": "markdown",
   "id": "7e000743",
   "metadata": {},
   "source": [
    "##### Divided titles based on type in dataframe i.e, Movies and shows "
   ]
  },
  {
   "cell_type": "code",
   "execution_count": 13,
   "id": "6e2fbb9d",
   "metadata": {},
   "outputs": [],
   "source": [
    "show_title = titles[titles['type'] == 'SHOW' ]\n",
    "movie_title = titles[titles['type'] == 'MOVIE']"
   ]
  },
  {
   "cell_type": "code",
   "execution_count": 20,
   "id": "6a501c98",
   "metadata": {},
   "outputs": [
    {
     "name": "stdout",
     "output_type": "stream",
     "text": [
      "Shape of dataframe:  (2106, 14)\n",
      "Total No of Null Values:\n",
      " id                        0\n",
      "title                     0\n",
      "type                      0\n",
      "release_year              0\n",
      "age_certification         0\n",
      "runtime                   0\n",
      "genres                    0\n",
      "production_countries      0\n",
      "seasons                   0\n",
      "imdb_id                 141\n",
      "imdb_score              167\n",
      "imdb_votes              167\n",
      "tmdb_popularity          29\n",
      "tmdb_score              116\n",
      "dtype: int64\n"
     ]
    }
   ],
   "source": [
    "print(\"Shape of dataframe: \",show_title.shape)\n",
    "print(\"Total No of Null Values:\\n\", show_title.isnull().sum())"
   ]
  },
  {
   "cell_type": "code",
   "execution_count": 19,
   "id": "8df428ca",
   "metadata": {},
   "outputs": [
    {
     "name": "stdout",
     "output_type": "stream",
     "text": [
      "Shape of dataframe:  (3744, 13)\n",
      "Total No of Null Values:\n",
      " id                        0\n",
      "title                     1\n",
      "type                      0\n",
      "release_year              0\n",
      "age_certification         0\n",
      "runtime                   0\n",
      "genres                    0\n",
      "production_countries      0\n",
      "imdb_id                 262\n",
      "imdb_score              315\n",
      "imdb_votes              331\n",
      "tmdb_popularity          62\n",
      "tmdb_score              195\n",
      "dtype: int64\n"
     ]
    }
   ],
   "source": [
    "print(\"Shape of dataframe: \",movie_title.shape)\n",
    "print(\"Total No of Null Values:\\n\", movie_title.isnull().sum())"
   ]
  },
  {
   "cell_type": "markdown",
   "id": "ee977126",
   "metadata": {},
   "source": [
    "##### For movie_title and show_title we've null values, these null values are replaced by Not Available.  "
   ]
  },
  {
   "cell_type": "code",
   "execution_count": 18,
   "id": "e20f485d",
   "metadata": {},
   "outputs": [
    {
     "name": "stderr",
     "output_type": "stream",
     "text": [
      "C:\\Users\\jayan\\anaconda3\\lib\\site-packages\\pandas\\core\\generic.py:6392: SettingWithCopyWarning: \n",
      "A value is trying to be set on a copy of a slice from a DataFrame\n",
      "\n",
      "See the caveats in the documentation: https://pandas.pydata.org/pandas-docs/stable/user_guide/indexing.html#returning-a-view-versus-a-copy\n",
      "  return self._update_inplace(result)\n"
     ]
    }
   ],
   "source": [
    "movie_title.production_countries.fillna(\"Not Available\", inplace=True)\n",
    "movie_title.genres.fillna(\"Not Available\", inplace = True)\n",
    "show_title.production_countries.fillna(\"Not Available\", inplace=True)\n",
    "show_title.genres.fillna(\"Not Available\", inplace = True)"
   ]
  },
  {
   "cell_type": "markdown",
   "id": "55fe6357",
   "metadata": {},
   "source": [
    "##### Seasons are not needed for a movie, Hence we remove Seasons from movie_title. "
   ]
  },
  {
   "cell_type": "code",
   "execution_count": 16,
   "id": "6742e136",
   "metadata": {},
   "outputs": [
    {
     "name": "stderr",
     "output_type": "stream",
     "text": [
      "C:\\Users\\jayan\\anaconda3\\lib\\site-packages\\pandas\\core\\frame.py:4906: SettingWithCopyWarning: \n",
      "A value is trying to be set on a copy of a slice from a DataFrame\n",
      "\n",
      "See the caveats in the documentation: https://pandas.pydata.org/pandas-docs/stable/user_guide/indexing.html#returning-a-view-versus-a-copy\n",
      "  return super().drop(\n"
     ]
    }
   ],
   "source": [
    "movie_title.drop(columns=['seasons'], inplace = True)"
   ]
  },
  {
   "cell_type": "markdown",
   "id": "b769f24e",
   "metadata": {},
   "source": [
    "##### Merge both ther dataframes with the help of ID"
   ]
  },
  {
   "cell_type": "code",
   "execution_count": 21,
   "id": "a1602709",
   "metadata": {},
   "outputs": [],
   "source": [
    "movie_tc = credits.merge(movie_title, left_on='id', right_on='id')\n",
    "show_tc = credits.merge(show_title, left_on='id', right_on='id')"
   ]
  },
  {
   "cell_type": "code",
   "execution_count": 22,
   "id": "5a9c8162",
   "metadata": {},
   "outputs": [
    {
     "name": "stdout",
     "output_type": "stream",
     "text": [
      "Shape of dataframe:  (63091, 17)\n",
      "Total No of Null Values:\n",
      " person_id                  0\n",
      "id                         0\n",
      "name                       0\n",
      "character                  0\n",
      "role                       0\n",
      "title                      1\n",
      "type                       0\n",
      "release_year               0\n",
      "age_certification          0\n",
      "runtime                    0\n",
      "genres                     0\n",
      "production_countries       0\n",
      "imdb_id                 2459\n",
      "imdb_score              2804\n",
      "imdb_votes              2891\n",
      "tmdb_popularity            1\n",
      "tmdb_score               889\n",
      "dtype: int64\n"
     ]
    }
   ],
   "source": [
    "print(\"Shape of dataframe: \",movie_tc.shape)\n",
    "print(\"Total No of Null Values:\\n\", movie_tc.isnull().sum())"
   ]
  },
  {
   "cell_type": "code",
   "execution_count": 23,
   "id": "a952d891",
   "metadata": {},
   "outputs": [
    {
     "name": "stdout",
     "output_type": "stream",
     "text": [
      "Shape of dataframe:  (14710, 18)\n",
      "Total No of Null Values:\n",
      " person_id                  0\n",
      "id                         0\n",
      "name                       0\n",
      "character                  0\n",
      "role                       0\n",
      "title                      0\n",
      "type                       0\n",
      "release_year               0\n",
      "age_certification          0\n",
      "runtime                    0\n",
      "genres                     0\n",
      "production_countries       0\n",
      "seasons                    0\n",
      "imdb_id                 1040\n",
      "imdb_score              1146\n",
      "imdb_votes              1146\n",
      "tmdb_popularity           10\n",
      "tmdb_score               248\n",
      "dtype: int64\n"
     ]
    }
   ],
   "source": [
    "print(\"Shape of dataframe: \",show_tc.shape)\n",
    "print(\"Total No of Null Values:\\n\", show_tc.isnull().sum())"
   ]
  },
  {
   "cell_type": "code",
   "execution_count": 30,
   "id": "7afe07ef",
   "metadata": {},
   "outputs": [
    {
     "data": {
      "text/plain": [
       "person_id                 int64\n",
       "id                       object\n",
       "name                     object\n",
       "character                object\n",
       "role                     object\n",
       "title                    object\n",
       "type                     object\n",
       "release_year              int64\n",
       "age_certification        object\n",
       "runtime                   int64\n",
       "genres                   object\n",
       "production_countries     object\n",
       "seasons                 float64\n",
       "imdb_id                  object\n",
       "imdb_score              float64\n",
       "imdb_votes              float64\n",
       "tmdb_popularity         float64\n",
       "tmdb_score              float64\n",
       "dtype: object"
      ]
     },
     "execution_count": 30,
     "metadata": {},
     "output_type": "execute_result"
    }
   ],
   "source": [
    "show_tc.dtypes"
   ]
  },
  {
   "cell_type": "markdown",
   "id": "09cb6243",
   "metadata": {},
   "source": [
    "##### Removal of Null imdb_id for both movies and shows.  "
   ]
  },
  {
   "cell_type": "code",
   "execution_count": 43,
   "id": "31380957",
   "metadata": {},
   "outputs": [],
   "source": [
    "popular_show = show_tc.dropna(subset = ['imdb_id'])\n",
    "popular_movie = movie_tc.dropna(subset = ['imdb_id'])"
   ]
  },
  {
   "cell_type": "code",
   "execution_count": 47,
   "id": "db097028",
   "metadata": {},
   "outputs": [
    {
     "name": "stdout",
     "output_type": "stream",
     "text": [
      "Before Dropping null imdb_id: (14710, 18)\n",
      "After Dropping null imdb_id: (13670, 18)\n",
      "Total No of Null Values:\n",
      " person_id               0\n",
      "id                      0\n",
      "name                    0\n",
      "character               0\n",
      "role                    0\n",
      "title                   0\n",
      "type                    0\n",
      "release_year            0\n",
      "age_certification       0\n",
      "runtime                 0\n",
      "genres                  0\n",
      "production_countries    0\n",
      "seasons                 0\n",
      "imdb_id                 0\n",
      "imdb_score              0\n",
      "imdb_votes              0\n",
      "tmdb_popularity         0\n",
      "tmdb_score              0\n",
      "dtype: int64\n"
     ]
    }
   ],
   "source": [
    "print(\"Before Dropping null imdb_id:\", show_tc.shape)\n",
    "print(\"After Dropping null imdb_id:\",popular_show.shape)\n",
    "print(\"Total No of Null Values:\\n\", popular_show.isnull().sum())"
   ]
  },
  {
   "cell_type": "code",
   "execution_count": 46,
   "id": "42651776",
   "metadata": {},
   "outputs": [
    {
     "name": "stdout",
     "output_type": "stream",
     "text": [
      "Before Dropping null imdb_id: (63091, 17)\n",
      "After Dropping null imdb_id: (60632, 17)\n",
      "Total No of Null Values:\n",
      " person_id               0\n",
      "id                      0\n",
      "name                    0\n",
      "character               0\n",
      "role                    0\n",
      "title                   1\n",
      "type                    0\n",
      "release_year            0\n",
      "age_certification       0\n",
      "runtime                 0\n",
      "genres                  0\n",
      "production_countries    0\n",
      "imdb_id                 0\n",
      "imdb_score              0\n",
      "imdb_votes              0\n",
      "tmdb_popularity         0\n",
      "tmdb_score              0\n",
      "dtype: int64\n"
     ]
    }
   ],
   "source": [
    "print(\"Before Dropping null imdb_id:\", movie_tc.shape)\n",
    "print(\"After Dropping null imdb_id:\",popular_movie.shape)\n",
    "print(\"Total No of Null Values:\\n\", popular_movie.isnull().sum())"
   ]
  },
  {
   "cell_type": "markdown",
   "id": "771370b6",
   "metadata": {},
   "source": [
    "#### Treating the null values of score, votes popularirty and score. Filling the null values with mean. "
   ]
  },
  {
   "cell_type": "code",
   "execution_count": 45,
   "id": "8260cfe9",
   "metadata": {},
   "outputs": [
    {
     "name": "stderr",
     "output_type": "stream",
     "text": [
      "C:\\Users\\jayan\\AppData\\Local\\Temp/ipykernel_8424/427983901.py:1: SettingWithCopyWarning: \n",
      "A value is trying to be set on a copy of a slice from a DataFrame.\n",
      "Try using .loc[row_indexer,col_indexer] = value instead\n",
      "\n",
      "See the caveats in the documentation: https://pandas.pydata.org/pandas-docs/stable/user_guide/indexing.html#returning-a-view-versus-a-copy\n",
      "  popular_movie['imdb_score']=popular_movie['imdb_score'].fillna(popular_movie['imdb_score'].mean())\n",
      "C:\\Users\\jayan\\AppData\\Local\\Temp/ipykernel_8424/427983901.py:2: SettingWithCopyWarning: \n",
      "A value is trying to be set on a copy of a slice from a DataFrame.\n",
      "Try using .loc[row_indexer,col_indexer] = value instead\n",
      "\n",
      "See the caveats in the documentation: https://pandas.pydata.org/pandas-docs/stable/user_guide/indexing.html#returning-a-view-versus-a-copy\n",
      "  popular_movie['imdb_votes']=popular_movie['imdb_votes'].fillna(popular_movie['imdb_votes'].mean())\n",
      "C:\\Users\\jayan\\AppData\\Local\\Temp/ipykernel_8424/427983901.py:3: SettingWithCopyWarning: \n",
      "A value is trying to be set on a copy of a slice from a DataFrame.\n",
      "Try using .loc[row_indexer,col_indexer] = value instead\n",
      "\n",
      "See the caveats in the documentation: https://pandas.pydata.org/pandas-docs/stable/user_guide/indexing.html#returning-a-view-versus-a-copy\n",
      "  popular_movie['tmdb_popularity']=popular_movie['tmdb_popularity'].fillna(popular_movie['tmdb_popularity'].mean())\n",
      "C:\\Users\\jayan\\AppData\\Local\\Temp/ipykernel_8424/427983901.py:4: SettingWithCopyWarning: \n",
      "A value is trying to be set on a copy of a slice from a DataFrame.\n",
      "Try using .loc[row_indexer,col_indexer] = value instead\n",
      "\n",
      "See the caveats in the documentation: https://pandas.pydata.org/pandas-docs/stable/user_guide/indexing.html#returning-a-view-versus-a-copy\n",
      "  popular_movie['tmdb_score']=popular_movie['tmdb_score'].fillna(popular_movie['tmdb_score'].mean())\n",
      "C:\\Users\\jayan\\AppData\\Local\\Temp/ipykernel_8424/427983901.py:6: SettingWithCopyWarning: \n",
      "A value is trying to be set on a copy of a slice from a DataFrame.\n",
      "Try using .loc[row_indexer,col_indexer] = value instead\n",
      "\n",
      "See the caveats in the documentation: https://pandas.pydata.org/pandas-docs/stable/user_guide/indexing.html#returning-a-view-versus-a-copy\n",
      "  popular_show['imdb_score']=popular_show['imdb_score'].fillna(popular_show['imdb_score'].mean())\n",
      "C:\\Users\\jayan\\AppData\\Local\\Temp/ipykernel_8424/427983901.py:7: SettingWithCopyWarning: \n",
      "A value is trying to be set on a copy of a slice from a DataFrame.\n",
      "Try using .loc[row_indexer,col_indexer] = value instead\n",
      "\n",
      "See the caveats in the documentation: https://pandas.pydata.org/pandas-docs/stable/user_guide/indexing.html#returning-a-view-versus-a-copy\n",
      "  popular_show['imdb_votes']=popular_show['imdb_votes'].fillna(popular_show['imdb_votes'].mean())\n",
      "C:\\Users\\jayan\\AppData\\Local\\Temp/ipykernel_8424/427983901.py:8: SettingWithCopyWarning: \n",
      "A value is trying to be set on a copy of a slice from a DataFrame.\n",
      "Try using .loc[row_indexer,col_indexer] = value instead\n",
      "\n",
      "See the caveats in the documentation: https://pandas.pydata.org/pandas-docs/stable/user_guide/indexing.html#returning-a-view-versus-a-copy\n",
      "  popular_show['tmdb_popularity']=popular_show['tmdb_popularity'].fillna(popular_show['tmdb_popularity'].mean())\n",
      "C:\\Users\\jayan\\AppData\\Local\\Temp/ipykernel_8424/427983901.py:9: SettingWithCopyWarning: \n",
      "A value is trying to be set on a copy of a slice from a DataFrame.\n",
      "Try using .loc[row_indexer,col_indexer] = value instead\n",
      "\n",
      "See the caveats in the documentation: https://pandas.pydata.org/pandas-docs/stable/user_guide/indexing.html#returning-a-view-versus-a-copy\n",
      "  popular_show['tmdb_score']=popular_show['tmdb_score'].fillna(popular_show['tmdb_score'].mean())\n"
     ]
    }
   ],
   "source": [
    "popular_movie['imdb_score']=popular_movie['imdb_score'].fillna(popular_movie['imdb_score'].mean())\n",
    "popular_movie['imdb_votes']=popular_movie['imdb_votes'].fillna(popular_movie['imdb_votes'].mean())\n",
    "popular_movie['tmdb_popularity']=popular_movie['tmdb_popularity'].fillna(popular_movie['tmdb_popularity'].mean())\n",
    "popular_movie['tmdb_score']=popular_movie['tmdb_score'].fillna(popular_movie['tmdb_score'].mean())\n",
    "\n",
    "popular_show['imdb_score']=popular_show['imdb_score'].fillna(popular_show['imdb_score'].mean())\n",
    "popular_show['imdb_votes']=popular_show['imdb_votes'].fillna(popular_show['imdb_votes'].mean())\n",
    "popular_show['tmdb_popularity']=popular_show['tmdb_popularity'].fillna(popular_show['tmdb_popularity'].mean())\n",
    "popular_show['tmdb_score']=popular_show['tmdb_score'].fillna(popular_show['tmdb_score'].mean())"
   ]
  },
  {
   "cell_type": "raw",
   "id": "e2d4b813",
   "metadata": {},
   "source": [
    "-> The two datasets are cleaned and transformed into various different datasets to meet our requirements. \n",
    "They are as follow: \n",
    "1. credits (treated the null values)\n",
    "2. titles (treated the null values)\n",
    "3. show_titles (titles are divided into type = show)\n",
    "4. movie_titles (titles are divided into type = movie and removed seasosn column from the dataset)\n",
    "5. movie_tc (movie_title and credits are merged using ids) \n",
    "6. show_tc (show_title and credits are merged using ids0 \n",
    "7. popuar_movie (Removed the null imdb_id's and replaced the other null values with their mean)  \n",
    "8. popular_show (Removed the null imdb_id's and replaced the other null values with their mean)"
   ]
  },
  {
   "cell_type": "markdown",
   "id": "abff3271",
   "metadata": {},
   "source": [
    "##### Extracting the transformed datasets into csv's "
   ]
  },
  {
   "cell_type": "code",
   "execution_count": 48,
   "id": "5f993e6c",
   "metadata": {},
   "outputs": [],
   "source": [
    "credits.to_csv('cleaned/credits.csv')\n",
    "titles.to_csv('cleaned/titles.csv')\n",
    "show_title.to_csv('cleaned/show_title.csv')\n",
    "movie_title.to_csv('cleaned/movie_title.csv')\n",
    "show_tc.to_csv('cleaned/show_tc.csv')\n",
    "movie_tc.to_csv('cleaned/movie_tc.csv')\n",
    "popular_movie.to_csv('cleaned/popular_movie.csv')\n",
    "popular_show.to_csv('cleaned/popular_show.csv')"
   ]
  }
 ],
 "metadata": {
  "kernelspec": {
   "display_name": "Python 3 (ipykernel)",
   "language": "python",
   "name": "python3"
  },
  "language_info": {
   "codemirror_mode": {
    "name": "ipython",
    "version": 3
   },
   "file_extension": ".py",
   "mimetype": "text/x-python",
   "name": "python",
   "nbconvert_exporter": "python",
   "pygments_lexer": "ipython3",
   "version": "3.9.7"
  }
 },
 "nbformat": 4,
 "nbformat_minor": 5
}
