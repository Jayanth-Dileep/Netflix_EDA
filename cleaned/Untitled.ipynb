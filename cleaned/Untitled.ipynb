{
 "cells": [
  {
   "cell_type": "code",
   "execution_count": 1,
   "id": "cd8b2eff",
   "metadata": {},
   "outputs": [],
   "source": [
    "import pandas as pd"
   ]
  },
  {
   "cell_type": "code",
   "execution_count": 3,
   "id": "18fa3ef8",
   "metadata": {},
   "outputs": [],
   "source": [
    "df_movies = pd.read_csv(\"popular_movie.csv\")\n",
    "df_shows = pd.read_csv(\"popular_show.csv\")"
   ]
  },
  {
   "cell_type": "code",
   "execution_count": 12,
   "id": "968bd2e8",
   "metadata": {},
   "outputs": [
    {
     "data": {
      "text/plain": [
       "array(['R', 'PG', 'Not Available', 'PG-13', 'G', 'NC-17'], dtype=object)"
      ]
     },
     "execution_count": 12,
     "metadata": {},
     "output_type": "execute_result"
    }
   ],
   "source": [
    "df_movies.age_certification.unique()"
   ]
  },
  {
   "cell_type": "raw",
   "id": "22a0b2cd",
   "metadata": {},
   "source": [
    "df_movies"
   ]
  }
 ],
 "metadata": {
  "kernelspec": {
   "display_name": "Python 3 (ipykernel)",
   "language": "python",
   "name": "python3"
  },
  "language_info": {
   "codemirror_mode": {
    "name": "ipython",
    "version": 3
   },
   "file_extension": ".py",
   "mimetype": "text/x-python",
   "name": "python",
   "nbconvert_exporter": "python",
   "pygments_lexer": "ipython3",
   "version": "3.9.15"
  }
 },
 "nbformat": 4,
 "nbformat_minor": 5
}
